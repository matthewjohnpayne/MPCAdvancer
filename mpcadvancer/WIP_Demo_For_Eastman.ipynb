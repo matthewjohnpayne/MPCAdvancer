{
 "cells": [
  {
   "cell_type": "markdown",
   "metadata": {},
   "source": [
    "Nov 2018\n",
    "Payne\n",
    "\n",
    " - Want to create a notebook to demo to J. Eastman some of the basic functionalities that (a) he'll need, and (b) that are available\n",
    "    "
   ]
  },
  {
   "cell_type": "markdown",
   "metadata": {},
   "source": [
    "### Standard python / jupyter imports "
   ]
  },
  {
   "cell_type": "code",
   "execution_count": 2,
   "metadata": {},
   "outputs": [],
   "source": [
    "import numpy as np\n",
    "import os, sys\n",
    "#import astropy as AP"
   ]
  },
  {
   "cell_type": "markdown",
   "metadata": {},
   "source": [
    "### Imports of *HIGHLY DEVELOPMENTAL* (i.e. potentially wrong/slow) packages\n",
    " - This needs to be updated / generalized to get the damn things to install from pip ..."
   ]
  },
  {
   "cell_type": "code",
   "execution_count": 3,
   "metadata": {},
   "outputs": [],
   "source": [
    "# >>> pip install mpcutilities \n",
    "import mpcutilities as MPCU\n",
    "#import mpcadvancer  as MPCA"
   ]
  },
  {
   "cell_type": "markdown",
   "metadata": {},
   "source": [
    "### Orbit specification"
   ]
  },
  {
   "cell_type": "code",
   "execution_count": 1,
   "metadata": {},
   "outputs": [],
   "source": [
    "# Specify a Keplerian orbit\n",
    "a,e,i,O,o,M       = (2.781870259390299, 0.07692192514945771, 0.18480538653567896, 1.4012469961929193, 1.237855673926063, -1.0950384781408455)\n",
    "    \n",
    "# Use kep2cartState to calculate the cartesian state from the specified elements \n",
    "CartState             = kc.kep2cartState(PHYS.GMsun , a,e,i,O,o,M)\n",
    "print(\"CartState=\", CartState.x, CartState.y, CartState.z, CartState.xd, CartState.yd, CartState.zd)\n",
    "\n",
    "# Transform it back to Keplerian \n",
    "els    = kc.cart2kep(PHYS.GMsun , CartState)\n",
    "\n",
    "# Check that the numbers look ok \n",
    "assert( np.allclose( els , np.array([a,e,i,O,o,M]) )) \n"
   ]
  },
  {
   "cell_type": "markdown",
   "metadata": {},
   "source": [
    "### Simulating Observations of an orbiting object"
   ]
  },
  {
   "cell_type": "code",
   "execution_count": null,
   "metadata": {},
   "outputs": [],
   "source": [
    "# Specify the date of the proposed observation of the object\n",
    "# - Midnight, Jan 1st, 2023, arbitrarily simulating data around this time ...\n",
    "# - Orbit times use \"TDB\": https://en.wikipedia.org/wiki/Barycentric_Dynamical_Time\n",
    "JD_TDB = 2459945.5 \n",
    "\n",
    "# It will be useful to know the approximate mean anomaly of the earth at the above time \n",
    "# - This is to prevent us from simulating observations in stupid/unphysical directions\n",
    "Observatory.getObservatoryPosition('500', JD_TDB) ##<<-- '500' is the geocenter\n",
    "earthMeanAnom = True\n",
    "\n",
    "# Specify a Cartesian state at a particular epoch\n",
    "a,e,i,O,o,M       = (2.781870259390299, 0.07692192514945771, 0.18480538653567896, 1.4012469961929193, 1.237855673926063, earthMeanAnom)\n",
    "CartState             = kc.kep2cartState(PHYS.GMsun , a,e,i,O,o,M)\n",
    "\n",
    "# Specify where you are observing from (using observatory codes as short-hand)\n",
    "JD_UTC  = 2459945.5 ## <<-- Observation taken at a time specified in UTC system: https://en.wikipedia.org/wiki/Coordinated_Universal_Time\n",
    "obsCode = '806'     ## <<-- Observatory code: https://en.wikipedia.org/wiki/List_of_observatory_codes\n",
    "\n",
    "# Calculate the topocentric RA & Dec of the object at the time of observation"
   ]
  },
  {
   "cell_type": "markdown",
   "metadata": {},
   "source": [
    "### Advance a Cartesian state to a series of time-steps"
   ]
  },
  {
   "cell_type": "code",
   "execution_count": 2,
   "metadata": {},
   "outputs": [],
   "source": [
    "# Specify a Cartesian state at a particular epoch\n",
    "JD_TDB = 2459945.5, # <<-- Midnight, Jan 1st, 2023, arbitrarily simulating data around this time ...\n",
    "a,e,i,O,o,M       = (2.781870259390299, 0.07692192514945771, 0.18480538653567896, 1.4012469961929193, 1.237855673926063, -1.0950384781408455)\n",
    "CartState         = kc.kep2cartState(PHYS.GMsun , a,e,i,O,o,M)\n",
    "\n",
    "# Specify some times of interest\n",
    "targetTDBs = np.array(JD_TDB , JD_TDB + 10.0, 1.0)\n",
    "\n",
    "# Advance the initial cartesian state to a set of cartesian states, one at each of the times of interest\n",
    "ics = ORBIT_ICs(something) ##<<-- Inputs need to be specified \n",
    "a   = ADVANCE(ics)\n",
    "t   = a.twobody(targetTDBs)\n"
   ]
  },
  {
   "cell_type": "markdown",
   "metadata": {},
   "source": [
    "### Simulating observations of an orbiting object at a series of time-steps"
   ]
  },
  {
   "cell_type": "code",
   "execution_count": 3,
   "metadata": {},
   "outputs": [],
   "source": [
    "# Specify a Cartesian state at a particular epoch\n",
    "\n",
    "# Specify some times of interest\n",
    "\n",
    "# Advance the initial cartesian state to a set of cartesian states, one at each of the times of interest\n",
    "\n",
    "# Simulate the observations"
   ]
  },
  {
   "cell_type": "markdown",
   "metadata": {},
   "source": [
    "### Define some convenience functions for generating \"realistic\" data sets"
   ]
  },
  {
   "cell_type": "code",
   "execution_count": 209,
   "metadata": {},
   "outputs": [],
   "source": [
    "\n",
    "def subsequent_new_moon_dates(JD, N):\n",
    "    '''\n",
    "    # Convenience function to return the dates of the N new-moons after a specified JD\n",
    "    # - Used in function(s) below to generate synthetic data\n",
    "    # - Totally unimportant, why did I spend any time doing this ?!?\n",
    "    '''\n",
    "    # When is it new moon ?\n",
    "    # http://aa.usno.navy.mil/cgi-bin/aa_phases.pl?year=2018&month=11&day=12&nump=50&format=p\n",
    "    JD_of_a_new_moon = 2458459.805556 # 2018 Dec 07 07:20 \n",
    "    # Approx ave synodic month \n",
    "    period           = 29.530588      # Good enough for government work: https://en.wikipedia.org/wiki/New_moon\n",
    "    # Find next new moon after input date\n",
    "    Nfullphases, remainderDays = (JD - JD_of_a_new_moon ) // period , (JD - JD_of_a_new_moon ) % period\n",
    "    next_new_moon = JD + (period - remainderDays)\n",
    "    # Generate array of next N-new-moons\n",
    "    return np.arange( next_new_moon, next_new_moon + N*period, period )\n",
    "\n",
    "def generate_darkTime_arrays(JD_UTC, Nlunations=3):\n",
    "    '''\n",
    "    # Convenience function to identify the periods of \"dark-time\" (away from full moon) after a given date\n",
    "    # - Used in function(s) below to generate synthetic data\n",
    "    # - Totally unimportant, why did I spend any time doing this ?!?\n",
    "    '''\n",
    "    # Find the new moons dates after JD_UTC\n",
    "    newMoonNights = subsequent_new_moon_dates(JD_UTC, Nlunations)\n",
    "\n",
    "    # Get the unbroken ~22+ night span(s) of dark(ish)-time centered-on the above new moon dates\n",
    "    Ndark = 2*11\n",
    "    darkNightArrays = []\n",
    "    for i,n in enumerate(newMoonNights[:-1]):\n",
    "        tStart = int(newMoonNights[i] - Ndark/2) \n",
    "        tEnd   = int(newMoonNights[i] + Ndark/2)\n",
    "        if tStart > JD_UTC:\n",
    "            darkNightArrays.append(  np.arange( tStart, tEnd ,1 ) )\n",
    "        assert darkNightArrays != [], \"nothing added to darkNightArrays ... \"\n",
    "    return darkNightArrays\n",
    "\n",
    "def choose_nights_from_span(nightArray, Nnights, ArcLength):\n",
    "    '''\n",
    "    # Convenience function to choose randomly (with constraints) N-nights from a contoguous span \n",
    "    # - Used in function(s) below to generate synthetic data\n",
    "    '''\n",
    "    assert Nnights <= ArcLength, \"Nnights is more than the specified ArcLength\"\n",
    "    assert Nnights <= len(nightArray), \"Nnights is more than the available nights\"\n",
    "    ArcLength = int(ArcLength) \n",
    "    \n",
    "    # First night must be within the first few (to allow arc-length constraint to be satisfied)\n",
    "    firstNight       = np.random.choice(nightArray[: len(nightArray)- ArcLength ])\n",
    "    selectedNights   = [firstNight]\n",
    "    # If Nnights > 1, generate a total span that is approx equal to ArcLength \n",
    "    if Nnights > 1:\n",
    "        lastNight        = firstNight + ArcLength  \n",
    "        selectedNights.append(lastNight)\n",
    "    # If Nnights > 2, add in extra nights \n",
    "    if Nnights > 2:\n",
    "        additionalNights = np.random.choice( np.arange(firstNight + 1 , lastNight) , Nnights-2, replace=False)\n",
    "        selectedNights.extend( list(additionalNights) )\n",
    "    return np.sort(np.array(selectedNights))\n",
    "                                          \n",
    "def generate_synthetic_LSST_observations_SingleLunation(\n",
    "        OrbitalCartesianState,\n",
    "        t0_orb_JD_TDB = 2459945.5, # <<-- Midnight, Jan 1st, 2023, arbitrarily simulating data around this time ...\n",
    "        t0_obs_JD_UTC = 2459945.5, # <<-- Midnight, Jan 1st, 2023, ... and assuming orbit specified around same time\n",
    "        Ndets=6,                   # <<-- Total number of individual detections  \n",
    "        Nnights=3,                 # <<-- Total number of nights with data on them\n",
    "        ArcLength=10.,             # <<-- Number of nights separating start of data from end of data\n",
    "        obsCode='806',             # <<-- Observatory code to use for LSST  \n",
    "        obsError=0.1,              # <<-- Assumed astrometric uncertainty for LSST observations \n",
    "        outlier=True):             # <<-- Whether to add outlier observational errors for shits and giggles\n",
    "    '''\n",
    "    # Convenience function to generate synthetic observational data sets \n",
    "    # LSST discovery data will be *short*: \n",
    "    # - typically ~6 detections, \n",
    "    # - spread across ~3 individual nights, \n",
    "    # - with the span of the data (\"arc length\") being ~10 nights from start to end \n",
    "    '''\n",
    "    # Assertions to avoid fuck-ups due to the assumptions I make below\n",
    "    assert ArcLength < 20\n",
    "    assert Nnights <= ArcLength\n",
    "    assert Ndets >= Nnights*2 ## <<-- LSST requires >= 2 per night\n",
    "    assert Ndets <= Nnights*4 ## <<-- No good reason, it just seems unnecessary for LSST ....\n",
    "    \n",
    "    # Get nights away from the full moon \n",
    "    # - N.B. \"[0]\" ... just selecting the first set of dark time ...\n",
    "    darkNightArrays = generate_darkTime_arrays(t0_obs_JD_UTC)[0] \n",
    "    \n",
    "    # Choose nights, ensuring a data-span approx equal to ArcLength \n",
    "    selectedNights = choose_nights_from_span(darkNightArrays, Nnights, ArcLength)\n",
    "    \n",
    "    # Specify number of observations on each night    \n",
    "    # - To simplify, am having everything have the average, then add in extras here-and-there\n",
    "    aveObsPerNight, additionalObsBeyondAve = Ndets // Nnights , Ndets % Nnights\n",
    "    nightsToGetAdditionalObs = np.random.choice( selectedNights , additionalObsBeyondAve, replace=False)\n",
    "                                          \n",
    "    # Choose observation times for each night\n",
    "    timeRange = (0.33,0.75) ##<<-- min & max JD_UTC, corresponds to approx 8pm & 6am\n",
    "    selectedObservationJDUTCs = []\n",
    "    for night in selectedNights:\n",
    "        startTime = np.random.uniform( timeRange[0],timeRange[1]-1.01/24.) ## <<-- leave at least an hour at the end\n",
    "        endTime   = np.random.uniform( startTime+1/24. ,  timeRange[1])    ## <<-- want the detections >= 1-hr apart \n",
    "        if night not in nightsToGetAdditionalObs:\n",
    "            selectedObservationJDUTCs.extend( [night+startTime , night+endTime])\n",
    "        else:\n",
    "            extraTime = np.random.uniform( startTime ,  endTime )\n",
    "            selectedObservationJDUTCs.extend( [night+startTime , night+extraTime , night+endTime])\n",
    "    print(\"selectedObservationJDUTCs\", selectedObservationJDUTCs)\n",
    "    \n",
    "    '''\n",
    "    \n",
    "    # Evolve the input OrbitalCartesianState to the required times and simulate the observations \n",
    "    \n",
    "    \n",
    "    # Decide whether to add extra errors to a few data points because no one has a clue what error bars really mean\n",
    "    if outlier:\n",
    "        Noutliers = np.random.int(1,int(len(OBS)/2)) ## <<-- At least one, but less than half\n",
    "        Outliers  = np.random.choice( np.arange(len(OBS)) , Noutliers, replace=False)\n",
    "    # Add  errors\n",
    "    for i,O in enumerate(OBS):\n",
    "        if i in Outliers:\n",
    "            factor = 2.0\n",
    "        else:\n",
    "            factor = 1.0\n",
    "        O.RA  += np.random.normal(0.0, factor*obsError)\n",
    "        O.DEC += np.random.normal(0.0, factor*obsError)\n",
    "        \n",
    "    # Return cartesian state(s) as well as observations ...\n",
    "    return OBS\n",
    "    '''\n",
    "    \n",
    "    \n",
    "    "
   ]
  },
  {
   "cell_type": "markdown",
   "metadata": {},
   "source": [
    "### Plot results from above convenience function"
   ]
  },
  {
   "cell_type": "code",
   "execution_count": 208,
   "metadata": {},
   "outputs": [
    {
     "name": "stdout",
     "output_type": "stream",
     "text": [
      "selectedObservationJDUTCs [2459959.5102544706, 2459959.6515298695, 2459964.394071052, 2459964.530711493, 2459969.5560183674, 2459969.6396634015]\n"
     ]
    }
   ],
   "source": [
    "# Define input cartesian state \n",
    "OrbitalCartesianState = True\n",
    "\n",
    "# Generate synthetic observations \n",
    "_ = generate_synthetic_LSST_observations_SingleLunation(CartState)\n",
    "\n",
    "# Make a plot of the cartesian position(s) \n",
    "\n",
    "# Make a plot of the RA & Dec (with & without uncertainties?)"
   ]
  },
  {
   "cell_type": "code",
   "execution_count": null,
   "metadata": {},
   "outputs": [],
   "source": []
  }
 ],
 "metadata": {
  "kernelspec": {
   "display_name": "Python [conda env:anaconda]",
   "language": "python",
   "name": "conda-env-anaconda-py"
  },
  "language_info": {
   "codemirror_mode": {
    "name": "ipython",
    "version": 3
   },
   "file_extension": ".py",
   "mimetype": "text/x-python",
   "name": "python",
   "nbconvert_exporter": "python",
   "pygments_lexer": "ipython3",
   "version": "3.5.5"
  }
 },
 "nbformat": 4,
 "nbformat_minor": 2
}
