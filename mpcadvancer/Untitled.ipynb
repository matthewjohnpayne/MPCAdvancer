{
 "cells": [
  {
   "cell_type": "markdown",
   "metadata": {},
   "source": [
    "Nov 2018\n",
    "Payne\n",
    "\n",
    " - Want to create a notebook to demo to J. Eastman some of the basic functionalities that (a) he'll need, and (b) that are available\n",
    "    "
   ]
  },
  {
   "cell_type": "markdown",
   "metadata": {},
   "source": [
    "### Standard python / jupyter imports "
   ]
  },
  {
   "cell_type": "code",
   "execution_count": 8,
   "metadata": {},
   "outputs": [],
   "source": [
    "import numpy as np"
   ]
  },
  {
   "cell_type": "markdown",
   "metadata": {},
   "source": [
    "### Imports of *HIGHLY DEVELOPMENTAL* (i.e. potentially wrong/slow) packages"
   ]
  },
  {
   "cell_type": "code",
   "execution_count": null,
   "metadata": {},
   "outputs": [],
   "source": []
  },
  {
   "cell_type": "markdown",
   "metadata": {},
   "source": [
    "### Orbit specification"
   ]
  },
  {
   "cell_type": "code",
   "execution_count": 1,
   "metadata": {},
   "outputs": [],
   "source": [
    "# Specify a Keplerian orbit\n",
    "\n",
    "# Transform it to Cartesian \n",
    "\n",
    "# Transform it back to Keplerian \n",
    "\n",
    "# Check that the numbers look ok (and simultaneously demonstrate how to examine the returned object)"
   ]
  },
  {
   "cell_type": "markdown",
   "metadata": {},
   "source": [
    "### Simulating Observations of an orbiting object"
   ]
  },
  {
   "cell_type": "code",
   "execution_count": null,
   "metadata": {},
   "outputs": [],
   "source": [
    "# Specify a Cartesian state at a particular epoch\n",
    "JD_TDB = ... ## <<-- Orbit times use \"TDB\": https://en.wikipedia.org/wiki/Barycentric_Dynamical_Time\n",
    "\n",
    "\n",
    "# Specify where you are observing from (using observatory codes as short-hand)\n",
    "JD_UTC = ... ## <<-- Observation taken at a time specified in UTC system: https://en.wikipedia.org/wiki/Coordinated_Universal_Time\n",
    "obsCode = ... ## <<-- Observatory code: https://en.wikipedia.org/wiki/List_of_observatory_codes\n",
    "\n",
    "# Calculate the topocentric RA & Dec of the object at the time of observation"
   ]
  },
  {
   "cell_type": "markdown",
   "metadata": {},
   "source": [
    "### Advance a Cartesian state to a series of time-steps"
   ]
  },
  {
   "cell_type": "code",
   "execution_count": 2,
   "metadata": {},
   "outputs": [],
   "source": [
    "# Specify a Cartesian state at a particular epoch\n",
    "\n",
    "# Specify some times of interest\n",
    "\n",
    "# Advance the initial cartesian state to a set of cartesian states, one at each of the times of interest"
   ]
  },
  {
   "cell_type": "markdown",
   "metadata": {},
   "source": [
    "### Simulating observations of an orbiting object at a series of time-steps"
   ]
  },
  {
   "cell_type": "code",
   "execution_count": 3,
   "metadata": {},
   "outputs": [],
   "source": [
    "# Specify a Cartesian state at a particular epoch\n",
    "\n",
    "# Specify some times of interest\n",
    "\n",
    "# Advance the initial cartesian state to a set of cartesian states, one at each of the times of interest\n",
    "\n",
    "# Simulate the observations"
   ]
  },
  {
   "cell_type": "markdown",
   "metadata": {},
   "source": [
    "### Define some convenience functions for generating \"realistic\" data sets"
   ]
  },
  {
   "cell_type": "code",
   "execution_count": 25,
   "metadata": {},
   "outputs": [],
   "source": [
    "# Define a convenience function to identify the periods of \"dark-time\" (away from full moon) after a given date\n",
    "# - Used in function(s) below to generate synthetic data\n",
    "def generate_darkTime_arrays(JD_UTC, Nlunations=3):\n",
    "    t_lunation = 27\n",
    "    # Nlunations after specified night\n",
    "    lunationNights = np.arange(int(JD_UTC), int(JD_UTC)+ Nlunations*t_lunation) \n",
    "    print(lunationNights)\n",
    "    # Find the full moons within the above span \n",
    "    fullMoonNights = np.array( [2459955, 2459955+27,2459955+54] )\n",
    "    print(\"IF YOU SEE THIS MESSAGE THEN THE ABOVE LINE IS HARDCODED BULLSHIT\")\n",
    "    # Get the unbroken ~21 night span(s) of dark(ish)-time in between the above new moon dates\n",
    "    Nbright = 2*3\n",
    "    darkNightArrays = []\n",
    "    for i,n in enumerate(fullMoonNights[:-1]):\n",
    "        darkNightArrays.append( np.arange( int(fullMoonNights[i] + Nbright/2) , int(fullMoonNights[i+1] - Nbright/2) ,1 ) )\n",
    "    \n",
    "    return darkNightArrays\n",
    "\n",
    "# Define a convenience function to chosse randomly (with constraints) N-nights from a contoguous span \n",
    "# - Used in function(s) below to generate synthetic data\n",
    "def choose_nights_from_span(nightArray, Nnights, ArcLength):\n",
    "    assert Nnights <= ArcLength\n",
    "    assert Nnights <= len(nightArray)\n",
    "    \n",
    "    # First night must be within the first few (to allow arc-length constrain to be satisfied)\n",
    "    firstNight       = random.choice(nightArray[: len(nightArray)-ArcLength ])\n",
    "    selectedNights   = np.array([firstNight])\n",
    "    # If Nnights > 1, generate a total span that is approx equal to ArcLength \n",
    "    if Nnights > 1:\n",
    "        lastNight        = firstNight + ArcLength  \n",
    "        selectedNights   = np.concatenate( selectedNights, np.array([lastNight]) )\n",
    "    # If Nnights > 2, add in extra nights \n",
    "    if Nnights > 2:\n",
    "        additionalNights = np.random.choice( np.arange(firstNight + 1 , lastNight) , Nnights-2, replace=False)\n",
    "        selectedNights   = np.concatenate( selectedNights , additionalNights )\n",
    "    return selectedNights.sort() \n",
    "                                          \n",
    "# Define a convenience function to generate synthetic observational data sets \n",
    "# LSST discovery data will be *short*: \n",
    "# - typically ~6 detections, \n",
    "# - spread across ~3 individual nights, \n",
    "# - with the span of the data (\"arc length\") being ~10 nights from start to end \n",
    "def generate_synthetic_LSST_observations_SingleLunation(\n",
    "        OrbitalCartesianState,\n",
    "        t0_orb_JD_TDB = 2459945.5, # <<-- Midnight, Jan 1st, 2023, arbitrarily simulating data around this time ...\n",
    "        t0_obs_JD_UTC = 2459945.5, # <<-- Midnight, Jan 1st, 2023, ... and assuming orbit specified around same time\n",
    "        Ndets=6,                   # <<-- Total number of individual detections  \n",
    "        Nnights=3,                 # <<-- Total number of nights with data on them\n",
    "        ArcLength=10.,             # <<-- Number of nights separating start of data from end of data\n",
    "        obsCode='806',             # <<-- Observatory code to use for LSST  \n",
    "        obsError=0.1,              # <<-- Assumed astrometric uncertainty for LSST observations \n",
    "        outlier=True):             # <<-- Whether to add outlier observational errors for shits and giggles\n",
    "    \n",
    "    # Assertions to avoid fuck-ups due to the assumptions I make below\n",
    "    assert ArcLength < 20\n",
    "    assert Nnights <= ArcLength\n",
    "    assert Ndets >= Nnights*2 ## <<-- LSST requires >= 2 per night\n",
    "    assert Ndets <= Nnights*4 ## <<-- No good reason, it just seems unnecessary for LSST ....\n",
    "    \n",
    "    # Get nights away from the full moon\n",
    "    newMoonNights = generate_darkTime_arrays(t0_obs_JD_UTC)[0]\n",
    "    \n",
    "    # Choose nights, ensuring a data-span approx equal to ArcLength \n",
    "    selectedNights = choose_nights_from_span(newMoonNights, Nnights, ArcLength)\n",
    "                                        \n",
    "    # Specify number of observations on each night    \n",
    "    \n",
    "                                          \n",
    "    # Choose observation times for each night\n",
    "    timeRange = (0.33,0.75) ##<<-- min & max JD_UTC, corresponds to about 8pm & 6am, or something like that\n",
    "    selectedObservationJDUTCs = []\n",
    "    additionObsBeyondTwo = Ndet - 2*Nnights\n",
    "    for night in selectedNights:\n",
    "        startTime = np.random.uniform( timeRange[0],timeRange[1]-1.01) ## <<-- leave at least an hour at the end\n",
    "        endTime   = np.random.uniform( startTime+1 ,  timeRange[1])    ## <<-- want the detections >= 1-hr apart                       \n",
    "        selectedObservationJDUTCs.extend( [night+startTime , night+endTime])\n",
    "    \n",
    "    # Evolve the input orbit to the required times and simulate the observations \n",
    "    \n",
    "    # Add reasonable errors\n",
    "    \n",
    "    # Add extra errors because no one has a clue what error bars really mean\n",
    "    \n",
    "    # Return synthetic observations \n",
    "    \n",
    "    \n",
    "    \n",
    "    \n",
    "    "
   ]
  },
  {
   "cell_type": "code",
   "execution_count": 26,
   "metadata": {},
   "outputs": [
    {
     "name": "stdout",
     "output_type": "stream",
     "text": [
      "[2459945 2459946 2459947 2459948 2459949 2459950 2459951 2459952 2459953\n",
      " 2459954 2459955 2459956 2459957 2459958 2459959 2459960 2459961 2459962\n",
      " 2459963 2459964 2459965 2459966 2459967 2459968 2459969 2459970 2459971\n",
      " 2459972 2459973 2459974 2459975 2459976 2459977 2459978 2459979 2459980\n",
      " 2459981 2459982 2459983 2459984 2459985 2459986 2459987 2459988 2459989\n",
      " 2459990 2459991 2459992 2459993 2459994 2459995 2459996 2459997 2459998\n",
      " 2459999 2460000 2460001 2460002 2460003 2460004 2460005 2460006 2460007\n",
      " 2460008 2460009 2460010 2460011 2460012 2460013 2460014 2460015 2460016\n",
      " 2460017 2460018 2460019 2460020 2460021 2460022 2460023 2460024 2460025]\n",
      "IF YOU SEE THIS MESSAGE THEN THE ABOVE LINE IS HARDCODED BULLSHIT\n"
     ]
    },
    {
     "ename": "NameError",
     "evalue": "name 'random' is not defined",
     "output_type": "error",
     "traceback": [
      "\u001b[0;31m---------------------------------------------------------------------------\u001b[0m",
      "\u001b[0;31mNameError\u001b[0m                                 Traceback (most recent call last)",
      "\u001b[0;32m<ipython-input-26-793015f9f9a7>\u001b[0m in \u001b[0;36m<module>\u001b[0;34m()\u001b[0m\n\u001b[0;32m----> 1\u001b[0;31m \u001b[0mgenerate_synthetic_LSST_observations_SingleLunation\u001b[0m\u001b[0;34m(\u001b[0m\u001b[0;36m2459945.5\u001b[0m\u001b[0;34m)\u001b[0m\u001b[0;34m\u001b[0m\u001b[0m\n\u001b[0m",
      "\u001b[0;32m<ipython-input-25-78c6a75ebd6b>\u001b[0m in \u001b[0;36mgenerate_synthetic_LSST_observations_SingleLunation\u001b[0;34m(OrbitalCartesianState, t0_orb_JD_TDB, t0_obs_JD_UTC, Ndets, Nnights, ArcLength, obsCode, obsError, outlier)\u001b[0m\n\u001b[1;32m     62\u001b[0m \u001b[0;34m\u001b[0m\u001b[0m\n\u001b[1;32m     63\u001b[0m     \u001b[0;31m# Choose nights, ensuring a data-span approx equal to ArcLength\u001b[0m\u001b[0;34m\u001b[0m\u001b[0;34m\u001b[0m\u001b[0m\n\u001b[0;32m---> 64\u001b[0;31m     \u001b[0mselectedNights\u001b[0m \u001b[0;34m=\u001b[0m \u001b[0mchoose_nights_from_span\u001b[0m\u001b[0;34m(\u001b[0m\u001b[0mnewMoonNights\u001b[0m\u001b[0;34m,\u001b[0m \u001b[0mNnights\u001b[0m\u001b[0;34m,\u001b[0m \u001b[0mArcLength\u001b[0m\u001b[0;34m)\u001b[0m\u001b[0;34m\u001b[0m\u001b[0m\n\u001b[0m\u001b[1;32m     65\u001b[0m \u001b[0;34m\u001b[0m\u001b[0m\n\u001b[1;32m     66\u001b[0m     \u001b[0;31m# Specify number of observations on each night\u001b[0m\u001b[0;34m\u001b[0m\u001b[0;34m\u001b[0m\u001b[0m\n",
      "\u001b[0;32m<ipython-input-25-78c6a75ebd6b>\u001b[0m in \u001b[0;36mchoose_nights_from_span\u001b[0;34m(nightArray, Nnights, ArcLength)\u001b[0m\n\u001b[1;32m     24\u001b[0m \u001b[0;34m\u001b[0m\u001b[0m\n\u001b[1;32m     25\u001b[0m     \u001b[0;31m# First night must be within the first few (to allow arc-length constrain to be satisfied)\u001b[0m\u001b[0;34m\u001b[0m\u001b[0;34m\u001b[0m\u001b[0m\n\u001b[0;32m---> 26\u001b[0;31m     \u001b[0mfirstNight\u001b[0m       \u001b[0;34m=\u001b[0m \u001b[0mrandom\u001b[0m\u001b[0;34m.\u001b[0m\u001b[0mchoice\u001b[0m\u001b[0;34m(\u001b[0m\u001b[0mnightArray\u001b[0m\u001b[0;34m[\u001b[0m\u001b[0;34m:\u001b[0m \u001b[0mlen\u001b[0m\u001b[0;34m(\u001b[0m\u001b[0mnightArray\u001b[0m\u001b[0;34m)\u001b[0m\u001b[0;34m-\u001b[0m\u001b[0mArcLength\u001b[0m \u001b[0;34m]\u001b[0m\u001b[0;34m)\u001b[0m\u001b[0;34m\u001b[0m\u001b[0m\n\u001b[0m\u001b[1;32m     27\u001b[0m     \u001b[0mselectedNights\u001b[0m   \u001b[0;34m=\u001b[0m \u001b[0mnp\u001b[0m\u001b[0;34m.\u001b[0m\u001b[0marray\u001b[0m\u001b[0;34m(\u001b[0m\u001b[0;34m[\u001b[0m\u001b[0mfirstNight\u001b[0m\u001b[0;34m]\u001b[0m\u001b[0;34m)\u001b[0m\u001b[0;34m\u001b[0m\u001b[0m\n\u001b[1;32m     28\u001b[0m     \u001b[0;31m# If Nnights > 1, generate a total span that is approx equal to ArcLength\u001b[0m\u001b[0;34m\u001b[0m\u001b[0;34m\u001b[0m\u001b[0m\n",
      "\u001b[0;31mNameError\u001b[0m: name 'random' is not defined"
     ]
    }
   ],
   "source": [
    "generate_synthetic_LSST_observations_SingleLunation(2459945.5)"
   ]
  },
  {
   "cell_type": "code",
   "execution_count": null,
   "metadata": {},
   "outputs": [],
   "source": []
  }
 ],
 "metadata": {
  "kernelspec": {
   "display_name": "Python [conda env:anaconda]",
   "language": "python",
   "name": "conda-env-anaconda-py"
  },
  "language_info": {
   "codemirror_mode": {
    "name": "ipython",
    "version": 3
   },
   "file_extension": ".py",
   "mimetype": "text/x-python",
   "name": "python",
   "nbconvert_exporter": "python",
   "pygments_lexer": "ipython3",
   "version": "3.5.5"
  }
 },
 "nbformat": 4,
 "nbformat_minor": 2
}
